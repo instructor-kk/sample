{
 "cells": [
  {
   "cell_type": "code",
   "execution_count": null,
   "metadata": {},
   "outputs": [
    {
     "name": "stdout",
     "output_type": "stream",
     "text": [
      "8\n",
      "12\n",
      "\n",
      "足し算: 7\n",
      "掛け算: 12\n",
      "\n"
     ]
    },
    {
     "ename": "ValueError",
     "evalue": "not enough values to unpack (expected 2, got 1)",
     "output_type": "error",
     "traceback": [
      "\u001b[31m---------------------------------------------------------------------------\u001b[39m",
      "\u001b[31mValueError\u001b[39m                                Traceback (most recent call last)",
      "\u001b[36mCell\u001b[39m\u001b[36m \u001b[39m\u001b[32mIn[7]\u001b[39m\u001b[32m, line 18\u001b[39m\n\u001b[32m     15\u001b[39m \u001b[38;5;28mprint\u001b[39m()\n\u001b[32m     17\u001b[39m t = \u001b[32m1\u001b[39m, \n\u001b[32m---> \u001b[39m\u001b[32m18\u001b[39m a, b = t\n\u001b[32m     19\u001b[39m \u001b[38;5;28mprint\u001b[39m(t)\n\u001b[32m     20\u001b[39m \u001b[38;5;28mprint\u001b[39m(\u001b[38;5;28mtype\u001b[39m(t))\n",
      "\u001b[31mValueError\u001b[39m: not enough values to unpack (expected 2, got 1)"
     ]
    }
   ],
   "source": [
    "def add(a, b):\n",
    "    return a + b\n",
    "\n",
    "result = add(3, 5)\n",
    "print(result)\n",
    "print(add(7, 5))\n",
    "print()\n",
    "\n",
    "def calculate(a, b):\n",
    "    return a + b, a * b\n",
    "\n",
    "sum_result, product_result = calculate(3, 4)\n",
    "print(\"足し算:\", sum_result)\n",
    "print(\"掛け算:\", product_result)\n",
    "print()\n",
    "\n",
    "t = 1, 3\n",
    "a, b = t\n",
    "print(t)\n",
    "print(type(t))\n",
    "print(t[0])\n",
    "print(t[1])\n",
    "# ValueError: too many values to unpack (expected 2)\n",
    "\n",
    "# a, b, c, d = t\n",
    "# ValueError: not enough values to unpack (expected 4, got 3)"
   ]
  }
 ],
 "metadata": {
  "kernelspec": {
   "display_name": "Python 3",
   "language": "python",
   "name": "python3"
  },
  "language_info": {
   "codemirror_mode": {
    "name": "ipython",
    "version": 3
   },
   "file_extension": ".py",
   "mimetype": "text/x-python",
   "name": "python",
   "nbconvert_exporter": "python",
   "pygments_lexer": "ipython3",
   "version": "3.12.7"
  }
 },
 "nbformat": 4,
 "nbformat_minor": 2
}
