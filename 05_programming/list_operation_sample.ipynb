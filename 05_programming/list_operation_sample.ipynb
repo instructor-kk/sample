{
 "cells": [
  {
   "cell_type": "code",
   "execution_count": null,
   "metadata": {},
   "outputs": [
    {
     "name": "stdout",
     "output_type": "stream",
     "text": [
      "apple cherry\n",
      "['apple', 'orange', 'cherry']\n",
      "[1, 2] [0, 1, 2] [2, 3, 4, 5] [5, 4, 3, 2, 1, 0]\n",
      "['apple', 'orange', 'cherry', 'mango']\n",
      "['apple', 'grape', 'orange', 'cherry', 'mango']\n",
      "['apple', 'grape', 'orange', 'cherry', 'mango', 'kiwi', 'pear']\n",
      "['apple', 'orange', 'cherry', 'mango', 'kiwi', 'pear']\n",
      "['apple', 'orange', 'cherry', 'mango', 'pear']\n",
      "['orange', 'cherry', 'mango', 'pear']\n",
      "[]\n",
      "[1, 2, 3, 4, 5, 6] [1, 2, 3, 4, 5, 6]\n",
      "2は存在するか: True\n",
      "2の出現回数: 3\n",
      "2の最初の位置: 1\n"
     ]
    }
   ],
   "source": [
    "fruits = [\"apple\", \"banana\", \"cherry\"]\n",
    "print(fruits[0], fruits[-1])  # apple, cherry\n",
    "fruits[1] = \"orange\"          # 要素の変更\n",
    "print(fruits)                 # ['apple', 'orange', 'cherry']\n",
    "\n",
    "numbers = [0, 1, 2, 3, 4, 5]\n",
    "print(numbers[1:3], numbers[:3], numbers[2:], numbers[::-1])\n",
    "\n",
    "fruits.append(\"mango\")\n",
    "print(fruits)\n",
    "fruits.insert(1, \"grape\")\n",
    "print(fruits)\n",
    "fruits.extend([\"kiwi\", \"pear\"])\n",
    "print(fruits)\n",
    "\n",
    "fruits.pop(1)       # インデックス1の要素を削除\n",
    "print(fruits)\n",
    "fruits.remove(\"kiwi\")  # 指定値を削除\n",
    "print(fruits)\n",
    "del fruits[0]       # インデックス0を削除\n",
    "print(fruits)\n",
    "fruits.clear()      # 全削除\n",
    "print(fruits)\n",
    "\n",
    "list1 = [1, 2, 3]\n",
    "list2 = [4, 5, 6]\n",
    "combined = list1 + list2\n",
    "list1.extend(list2)\n",
    "\n",
    "print(combined, list1)\n",
    "\n",
    "numbers = [1, 2, 3, 2, 4, 2]\n",
    "print(\"2は存在するか:\", 2 in numbers)  # True\n",
    "print(\"2の出現回数:\", numbers.count(2))  # 3\n",
    "print(\"2の最初の位置:\", numbers.index(2))  # 1\n",
    "\n",
    "numbers = [3, 1, 4, 1, 5, 9, 2]\n",
    "numbers.sort()\n",
    "sorted_numbers = sorted(numbers, reverse=True)\n",
    "\n",
    "print(numbers, sorted_numbers)\n"
   ]
  }
 ],
 "metadata": {
  "kernelspec": {
   "display_name": "Python 3",
   "language": "python",
   "name": "python3"
  },
  "language_info": {
   "codemirror_mode": {
    "name": "ipython",
    "version": 3
   },
   "file_extension": ".py",
   "mimetype": "text/x-python",
   "name": "python",
   "nbconvert_exporter": "python",
   "pygments_lexer": "ipython3",
   "version": "3.12.7"
  }
 },
 "nbformat": 4,
 "nbformat_minor": 2
}
