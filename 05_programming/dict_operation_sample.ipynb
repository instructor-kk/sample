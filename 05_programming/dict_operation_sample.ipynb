{
 "cells": [
  {
   "cell_type": "code",
   "execution_count": null,
   "metadata": {},
   "outputs": [
    {
     "name": "stdout",
     "output_type": "stream",
     "text": [
      "100\n",
      "{'apple': 100, 'banana': 250, 'cherry': 300}\n",
      "{'apple': 100, 'banana': 180, 'grape': 400}\n",
      "{} 200\n",
      "dict_keys(['apple', 'banana', 'cherry']) dict_values([100, 200, 300]) dict_items([('apple', 100), ('banana', 200), ('cherry', 300)])\n"
     ]
    }
   ],
   "source": [
    "fruit_prices = {\"apple\": 100, \"banana\": 200, \"cherry\": 300}\n",
    "print(fruit_prices[\"apple\"])  # 100\n",
    "\n",
    "# 値の更新\n",
    "fruit_prices[\"banana\"] = 250\n",
    "print(fruit_prices)\n",
    "\n",
    "fruit_prices = {\"apple\": 100, \"banana\": 200}\n",
    "fruit_prices[\"grape\"] = 400  # 新しい要素の追加\n",
    "fruit_prices[\"banana\"] = 180  # 値の変更\n",
    "\n",
    "print(fruit_prices)\n",
    "\n",
    "\n",
    "fruit_prices = {\"apple\": 100, \"banana\": 200, \"cherry\": 300}\n",
    "\n",
    "del_price = fruit_prices.pop(\"banana\")\n",
    "# print(fruit_prices)\n",
    "del fruit_prices[\"cherry\"]\n",
    "# print(fruit_prices)\n",
    "fruit_prices.clear()\n",
    "\n",
    "print(fruit_prices, del_price)\n",
    "\n",
    "fruit_prices = {\"apple\": 100, \"banana\": 200, \"cherry\": 300}\n",
    "print(fruit_prices.keys(), fruit_prices.values(), fruit_prices.items())\n",
    "\n",
    "fruit_prices = {\"apple\": 100, \"banana\": 200}\n",
    "print(\"apple\" in fruit_prices)  # True\n",
    "print(\"grape\" in fruit_prices)  # False"
   ]
  }
 ],
 "metadata": {
  "kernelspec": {
   "display_name": "Python 3",
   "language": "python",
   "name": "python3"
  },
  "language_info": {
   "codemirror_mode": {
    "name": "ipython",
    "version": 3
   },
   "file_extension": ".py",
   "mimetype": "text/x-python",
   "name": "python",
   "nbconvert_exporter": "python",
   "pygments_lexer": "ipython3",
   "version": "3.12.7"
  }
 },
 "nbformat": 4,
 "nbformat_minor": 2
}
