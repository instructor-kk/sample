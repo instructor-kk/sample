{
 "cells": [
  {
   "cell_type": "code",
   "execution_count": null,
   "metadata": {},
   "outputs": [],
   "source": [
    "try:\n",
    "    # エラーが起こる可能性のある処理\n",
    "    num = int(input(\"整数を入力してください: \"))\n",
    "    result = 100 / num\n",
    "    print(f\"100 を {num} で割った結果は {result} です\")\n",
    "except ZeroDivisionError:\n",
    "    # 0 で割った場合のエラー処理\n",
    "    print(\"エラー: 0 で割ることはできません\")\n",
    "except ValueError:\n",
    "    # 数値以外を入力した場合のエラー処理\n",
    "    print(\"エラー: 整数を入力してください\")"
   ]
  }
 ],
 "metadata": {
  "kernelspec": {
   "display_name": "Python 3",
   "language": "python",
   "name": "python3"
  },
  "language_info": {
   "name": "python",
   "version": "3.12.7"
  }
 },
 "nbformat": 4,
 "nbformat_minor": 2
}
