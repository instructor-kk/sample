{
 "cells": [
  {
   "cell_type": "code",
   "execution_count": null,
   "metadata": {},
   "outputs": [
    {
     "name": "stdout",
     "output_type": "stream",
     "text": [
      "「にんてんどううどんてんに」は回文です！\n",
      "「やまもとやま」は回文ではないです。\n",
      "\n",
      "こんにちは、太郎さん！\n",
      "こんにちは、suzukiさん！\n",
      "\n",
      "こんにちは、花子さん！ 年齢は25歳ですね。\n",
      "こんにちは、Jenyさん！ 年齢は17歳ですね。\n",
      "\n",
      "こんにちは、太郎さん！ 年齢は18歳ですね。\n",
      "こんにちは、花子さん！ 年齢は25歳ですね。\n",
      "\n",
      "合計: 10\n"
     ]
    }
   ],
   "source": [
    "def is_palindrome(s):\n",
    "    if s == s[::-1]:\n",
    "        print(f\"「{s}」は回文です！\")\n",
    "    else:\n",
    "        print(f\"「{s}」は回文ではないです。\")\n",
    "\n",
    "is_palindrome(\"にんてんどううどんてんに\")\n",
    "is_palindrome('やまもとやま')\n",
    "print()\n",
    "\n",
    "def greet(name):\n",
    "    print(f\"こんにちは、{name}さん！\")\n",
    "\n",
    "greet(\"太郎\")\n",
    "greet('suzuki')\n",
    "print()\n",
    "\n",
    "def introduce(name, age):\n",
    "    print(f\"こんにちは、{name}さん！ 年齢は{age}歳ですね。\")\n",
    "\n",
    "introduce(\"花子\", 25)\n",
    "introduce(\"Jeny\", 17)\n",
    "print()\n",
    "\n",
    "def introduce(name, age=18):\n",
    "    print(f\"こんにちは、{name}さん！ 年齢は{age}歳ですね。\")\n",
    "\n",
    "introduce(\"太郎\")\n",
    "introduce(\"花子\", 25)\n",
    "print()\n",
    "\n",
    "def add(*args):\n",
    "    print(\"合計:\", sum(args))\n",
    "\n",
    "add(1, 2, 3, 4)\n",
    "add(1, 2, 3, 4, 5, 6, 7, 8, 9, 10)\n",
    "print()\n"
   ]
  }
 ],
 "metadata": {
  "kernelspec": {
   "display_name": "Python 3",
   "language": "python",
   "name": "python3"
  },
  "language_info": {
   "codemirror_mode": {
    "name": "ipython",
    "version": 3
   },
   "file_extension": ".py",
   "mimetype": "text/x-python",
   "name": "python",
   "nbconvert_exporter": "python",
   "pygments_lexer": "ipython3",
   "version": "3.12.7"
  }
 },
 "nbformat": 4,
 "nbformat_minor": 2
}
