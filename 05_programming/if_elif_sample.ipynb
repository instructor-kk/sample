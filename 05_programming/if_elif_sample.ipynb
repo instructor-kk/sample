{
 "cells": [
  {
   "cell_type": "code",
   "execution_count": null,
   "metadata": {},
   "outputs": [],
   "source": [
    "score = int(input(\"点数を入力してください: \"))\n",
    "\n",
    "if score >= 90:\n",
    "    print(\"優秀です\")\n",
    "    print(\"大変よくできました！\")\n",
    "elif score >= 60:\n",
    "    print(\"合格です\")\n",
    "    print(\"おめでとうございます！\")\n",
    "else:\n",
    "    print(\"不合格です\")\n",
    "    print(\"もっとがんばりましょう\")\n",
    "\n",
    "print(\"処理を終了します\")"
   ]
  }
 ],
 "metadata": {
  "language_info": {
   "name": "python"
  }
 },
 "nbformat": 4,
 "nbformat_minor": 2
}
