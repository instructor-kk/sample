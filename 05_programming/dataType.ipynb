{
 "cells": [
  {
   "cell_type": "code",
   "execution_count": null,
   "metadata": {},
   "outputs": [
    {
     "name": "stdout",
     "output_type": "stream",
     "text": [
      "5\n",
      "3.3333333333333335\n",
      "3\n",
      "0.30000000000000004\n",
      "(1+3.5j)\n",
      "Hello, World!\n",
      "PYTHON\n",
      "python\n",
      "True\n",
      "False\n",
      "None\n"
     ]
    }
   ],
   "source": [
    "a = 10\n",
    "b = -5\n",
    "c = 0\n",
    "print(a + b)  # 5\n",
    "\n",
    "print(10 / 3)   # 3.3333333\n",
    "print(10 // 3)  # 3\n",
    "\n",
    "x = 3.14\n",
    "y = 0.1 + 0.2  # 浮動小数点誤差\n",
    "print(y)  # 0.30000000000000004\n",
    "\n",
    "c = 2 + 3j\n",
    "d = -1 + 0.5j\n",
    "print(c + d)  # (1+3.5j)\n",
    "\n",
    "text = \"Hello, World!\"\n",
    "print(text)\n",
    "\n",
    "text = \"Python\"\n",
    "print(text.upper())  # 'PYTHON'\n",
    "print(text.lower())  # 'python'\n",
    "\n",
    "a = 5\n",
    "b = 10\n",
    "print(a < b)  # True\n",
    "print(a == b)  # False\n",
    "\n",
    "x = None\n",
    "print(x)  # None\n",
    "\n"
   ]
  }
 ],
 "metadata": {
  "kernelspec": {
   "display_name": "Python 3",
   "language": "python",
   "name": "python3"
  },
  "language_info": {
   "codemirror_mode": {
    "name": "ipython",
    "version": 3
   },
   "file_extension": ".py",
   "mimetype": "text/x-python",
   "name": "python",
   "nbconvert_exporter": "python",
   "pygments_lexer": "ipython3",
   "version": "3.12.7"
  }
 },
 "nbformat": 4,
 "nbformat_minor": 2
}
