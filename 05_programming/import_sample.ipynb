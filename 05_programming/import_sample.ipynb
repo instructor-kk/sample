{
 "cells": [
  {
   "cell_type": "code",
   "execution_count": null,
   "metadata": {},
   "outputs": [
    {
     "name": "stdout",
     "output_type": "stream",
     "text": [
      "4.0\n",
      "現在の日時: 2025-03-29 17:46:14.739181\n",
      "4.0\n",
      "3.141592653589793\n",
      "5.0\n",
      "2.718281828459045\n",
      "3.141592653589793\n",
      "\n",
      "2025-03-29 17:46:14.739181\n",
      "1995-05-17 00:00:00\n",
      "365\n",
      "\n",
      "3\n",
      "[5, 1, 3, 2, 4]\n",
      "4\n",
      "\n",
      "c:\\Users\\kuro kei\\Documents\\5_仕事\\sample\\05_programming\n",
      "True\n"
     ]
    }
   ],
   "source": [
    "import math\n",
    "print(math.sqrt(16))  # 4.0\n",
    "\n",
    "import datetime as dt\n",
    "now = dt.datetime.now()\n",
    "print(\"現在の日時:\", now)\n",
    "\n",
    "from math import sqrt\n",
    "print(sqrt(16))  # 4.0\n",
    "\n",
    "from math import sqrt, pi\n",
    "print(pi)        # 3.141592653589793\n",
    "\n",
    "import math\n",
    "\n",
    "print(math.sqrt(25))  # 5.0\n",
    "print(math.exp(1))    # 2.718281828459045\n",
    "print(math.pi)        # 3.141592653589793\n",
    "print()\n",
    "\n",
    "\n",
    "import datetime\n",
    "\n",
    "now = datetime.datetime.now()\n",
    "print(now)\n",
    "\n",
    "birthday = datetime.datetime(1995, 5, 17)\n",
    "print(birthday)\n",
    "\n",
    "date1 = datetime.datetime(2023, 1, 1)\n",
    "date2 = datetime.datetime(2024, 1, 1)\n",
    "print((date2 - date1).days)  # 日数差\n",
    "print()\n",
    "\n",
    "\n",
    "import random\n",
    "\n",
    "print(random.randint(1, 10))  # 1〜10のランダムな整数\n",
    "my_list = [1, 2, 3, 4, 5]\n",
    "random.shuffle(my_list)       # リストをランダムに並び替え\n",
    "print(my_list)\n",
    "print(random.choice(my_list)) # ランダムな要素を1つ選択\n",
    "print()\n",
    "\n",
    "\n",
    "import os\n",
    "\n",
    "print(os.getcwd())         # 現在の作業ディレクトリを取得\n",
    "# os.mkdir(\"new_folder\")     # 新しいフォルダを作成\n",
    "print(os.path.exists(\"example.txt\"))  # ファイルやフォルダの存在確認\n",
    "print()\n",
    "\n",
    "import urllib.request\n",
    "\n",
    "url = \"https://techacademy.jp\"\n",
    "response = urllib.request.urlopen(url)\n",
    "html = response.read().decode(\"utf-8\")\n",
    "print(html[:500])  # 最初の500文字を表示"
   ]
  }
 ],
 "metadata": {
  "kernelspec": {
   "display_name": "Python 3",
   "language": "python",
   "name": "python3"
  },
  "language_info": {
   "codemirror_mode": {
    "name": "ipython",
    "version": 3
   },
   "file_extension": ".py",
   "mimetype": "text/x-python",
   "name": "python",
   "nbconvert_exporter": "python",
   "pygments_lexer": "ipython3",
   "version": "3.12.7"
  }
 },
 "nbformat": 4,
 "nbformat_minor": 2
}
