{
 "cells": [
  {
   "cell_type": "code",
   "execution_count": null,
   "metadata": {},
   "outputs": [
    {
     "ename": "SyntaxError",
     "evalue": "invalid syntax (3379286693.py, line 23)",
     "output_type": "error",
     "traceback": [
      "  \u001b[36mCell\u001b[39m\u001b[36m \u001b[39m\u001b[32mIn[14]\u001b[39m\u001b[32m, line 23\u001b[39m\n\u001b[31m    \u001b[39m\u001b[31mprint(f '{s} と{s2}')\u001b[39m\n            ^\n\u001b[31mSyntaxError\u001b[39m\u001b[31m:\u001b[39m invalid syntax\n"
     ]
    }
   ],
   "source": [
    "s = \"abcdefghijklmnopqrstuvwxyz\"\n",
    "print(s[0])  # a（先頭）\n",
    "print(s[-1])  # z（末尾）\n",
    "\n",
    "s = \"abcdefghijklmnopqrstuvwxyz\"\n",
    "print(s[0:7])    # abcdefg\n",
    "print(s[7:14])    # hijklmn\n",
    "print(s[-5:])    # vwxyz\n",
    "print(s[::2])    # acegikmoqsuwy（2個おき）\n",
    "\n",
    "s = \"TechAcademy\"\n",
    "for char in s:\n",
    "    print(char.upper(), end = ' ')  # 各文字を大文字に変換して表示\n",
    "\n",
    "print()\n",
    "\n",
    "print(len(s))  # 11（文字列の長さ）\n",
    "\n",
    "\n",
    "s = \"にんてんどううどんてんに\"\n",
    "s2 = s[::-1]\n",
    "\n",
    "print('比べてみると、{s} と{s2}')\n",
    "\n",
    "if s == s[::-1]:\n",
    "    print(f\"「{s}」は回文です！\")\n",
    "else:\n",
    "    print(f\"「{s}」は回文ではありません。\")"
   ]
  }
 ],
 "metadata": {
  "kernelspec": {
   "display_name": "Python 3",
   "language": "python",
   "name": "python3"
  },
  "language_info": {
   "codemirror_mode": {
    "name": "ipython",
    "version": 3
   },
   "file_extension": ".py",
   "mimetype": "text/x-python",
   "name": "python",
   "nbconvert_exporter": "python",
   "pygments_lexer": "ipython3",
   "version": "3.12.7"
  }
 },
 "nbformat": 4,
 "nbformat_minor": 2
}
