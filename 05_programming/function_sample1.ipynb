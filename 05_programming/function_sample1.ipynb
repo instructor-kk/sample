{
 "cells": [
  {
   "cell_type": "code",
   "execution_count": null,
   "metadata": {},
   "outputs": [
    {
     "name": "stdout",
     "output_type": "stream",
     "text": [
      "Hello, Python!\n",
      "123\n",
      "testnext line\n",
      "6\n",
      "4\n",
      "<class 'int'>\n",
      "<class 'str'>\n",
      "<class 'list'>\n",
      "20\n",
      "1\n",
      "10\n",
      "60\n"
     ]
    }
   ],
   "source": [
    "print(\"Hello, Python!\")   # Hello, Python!\n",
    "print(123)                # 123\n",
    "print(\"test\", end=\"\")     # test（改行なし）\n",
    "print(\"next line\")        # next line\n",
    "\n",
    "print(len(\"Python\"))      # 6（文字列の長さ）\n",
    "print(len([1, 2, 3, 4]))  # 4（リストの要素数）\n",
    "\n",
    "print(type(123))          # <class 'int'>\n",
    "print(type(\"Python\"))     # <class 'str'>\n",
    "print(type([1, 2, 3]))    # <class 'list'>\n",
    "\n",
    "print(max(5, 10, 20))     # 20\n",
    "print(min([1, 2, 3, 4]))  # 1\n",
    "\n",
    "print(sum([1, 2, 3, 4]))  # 10\n",
    "print(sum((10, 20, 30)))  # 60\n",
    "\n",
    "for i in range(5):\n",
    "    print(i)              # 0, 1, 2, 3, 4\n",
    "\n",
    "print(list(range(1, 10, 2)))  # [1, 3, 5, 7, 9]\n",
    "\n",
    "\n"
   ]
  }
 ],
 "metadata": {
  "kernelspec": {
   "display_name": "Python 3",
   "language": "python",
   "name": "python3"
  },
  "language_info": {
   "codemirror_mode": {
    "name": "ipython",
    "version": 3
   },
   "file_extension": ".py",
   "mimetype": "text/x-python",
   "name": "python",
   "nbconvert_exporter": "python",
   "pygments_lexer": "ipython3",
   "version": "3.12.7"
  }
 },
 "nbformat": 4,
 "nbformat_minor": 2
}
