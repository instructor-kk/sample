{
 "cells": [
  {
   "cell_type": "code",
   "execution_count": null,
   "metadata": {},
   "outputs": [
    {
     "name": "stdout",
     "output_type": "stream",
     "text": [
      "{'one': 1, 'two': 2, 'three': 3} {'name': 'Alice', 'age': 25, 'is_student': False} {}\n",
      "{'name': 'Bob', 'age': 30, 'is_student': True} {'apple': 100, 'banana': 200}\n"
     ]
    }
   ],
   "source": [
    "numbers = {\"one\": 1, \"two\": 2, \"three\": 3}\n",
    "person = {\"name\": \"Alice\", \"age\": 25, \"is_student\": False}\n",
    "empty_dict = {}\n",
    "\n",
    "print(numbers, person, empty_dict)\n",
    "\n",
    "person = dict(name=\"Bob\", age=30, is_student=True)\n",
    "pairs = [(\"apple\", 100), (\"banana\", 200)]\n",
    "fruit_prices = dict(pairs)\n",
    "\n",
    "print(person, fruit_prices)\n",
    "\n",
    "keys = [\"key1\", \"key2\", \"key3\"]\n",
    "default_dict = dict.fromkeys(keys, 0)\n",
    "\n",
    "print(default_dict)\n",
    "\n"
   ]
  }
 ],
 "metadata": {
  "kernelspec": {
   "display_name": "Python 3",
   "language": "python",
   "name": "python3"
  },
  "language_info": {
   "codemirror_mode": {
    "name": "ipython",
    "version": 3
   },
   "file_extension": ".py",
   "mimetype": "text/x-python",
   "name": "python",
   "nbconvert_exporter": "python",
   "pygments_lexer": "ipython3",
   "version": "3.12.7"
  }
 },
 "nbformat": 4,
 "nbformat_minor": 2
}
