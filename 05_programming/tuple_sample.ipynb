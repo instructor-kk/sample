{
 "cells": [
  {
   "cell_type": "code",
   "execution_count": null,
   "metadata": {},
   "outputs": [
    {
     "name": "stdout",
     "output_type": "stream",
     "text": [
      "(1, 2, 3, 4, 5) ('apple', 'banana', 'cherry') (1, 'apple', 3.14, True) () (1,)\n",
      "('h', 'e', 'l', 'l', 'o') (1, 2, 3) (0, 1, 2, 3, 4)\n",
      "(None, None, None, None, None) (0, 0, 0, 0, 0, 0, 0, 0, 0, 0)\n"
     ]
    }
   ],
   "source": [
    "numbers = (1, 2, 3, 4, 5)\n",
    "fruits = (\"apple\", \"banana\", \"cherry\")\n",
    "mixed = (1, \"apple\", 3.14, True)\n",
    "empty_tuple = ()\n",
    "one_element_tuple = (1,)  # 要素1つの場合はカンマが必要\n",
    "\n",
    "print(numbers, fruits, mixed, empty_tuple, one_element_tuple)\n",
    "\n",
    "string_to_tuple = tuple(\"hello\")\n",
    "list_to_tuple = tuple([1, 2, 3])\n",
    "range_to_tuple = tuple(range(5))\n",
    "\n",
    "print(string_to_tuple, list_to_tuple, range_to_tuple)\n",
    "\n",
    "none_tuple = (None,) * 5\n",
    "zeros = (0,) * 10\n",
    "\n",
    "print(none_tuple, zeros)\n",
    "\n",
    "original_list = [1, 2, 3]\n",
    "copied_tuple = tuple(original_list)\n",
    "\n",
    "original_tuple = (4, 5, 6)\n",
    "copied_tuple2 = tuple(original_tuple)\n",
    "\n",
    "print(copied_tuple, copied_tuple2)"
   ]
  }
 ],
 "metadata": {
  "kernelspec": {
   "display_name": "Python 3",
   "language": "python",
   "name": "python3"
  },
  "language_info": {
   "codemirror_mode": {
    "name": "ipython",
    "version": 3
   },
   "file_extension": ".py",
   "mimetype": "text/x-python",
   "name": "python",
   "nbconvert_exporter": "python",
   "pygments_lexer": "ipython3",
   "version": "3.12.7"
  }
 },
 "nbformat": 4,
 "nbformat_minor": 2
}
