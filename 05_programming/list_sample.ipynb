{
 "cells": [
  {
   "cell_type": "code",
   "execution_count": null,
   "metadata": {},
   "outputs": [
    {
     "name": "stdout",
     "output_type": "stream",
     "text": [
      "[1, 2, 3, 4, 5] ['apple', 'banana', 'cherry'] [1, 'apple', 3.14, True] []\n",
      "['h', 'e', 'l', 'l', 'o'] [1, 2, 3] [0, 1, 2, 3, 4]\n",
      "[None, None, None, None, None] [0, 0, 0, 0, 0, 0, 0, 0, 0, 0]\n"
     ]
    }
   ],
   "source": [
    "numbers = [1, 2, 3, 4, 5]\n",
    "fruits = [\"apple\", \"banana\", \"cherry\"]\n",
    "mixed = [1, \"apple\", 3.14, True]\n",
    "empty_list = []\n",
    "\n",
    "print(numbers, fruits, mixed, empty_list)\n",
    "\n",
    "string_to_list = list(\"hello\")\n",
    "tuple_to_list = list((1, 2, 3))\n",
    "range_to_list = list(range(5))\n",
    "\n",
    "print(string_to_list, tuple_to_list, range_to_list)\n",
    "\n",
    "none_list = [None] * 5\n",
    "zeros = [0] * 10\n",
    "\n",
    "print(none_list, zeros)\n",
    "\n",
    "original = [1, 2, 3]\n",
    "copy1 = original[:]\n",
    "copy2 = list(original)\n",
    "copy3 = original.copy()\n",
    "\n",
    "print(copy1, copy2, copy3)"
   ]
  }
 ],
 "metadata": {
  "kernelspec": {
   "display_name": "Python 3",
   "language": "python",
   "name": "python3"
  },
  "language_info": {
   "codemirror_mode": {
    "name": "ipython",
    "version": 3
   },
   "file_extension": ".py",
   "mimetype": "text/x-python",
   "name": "python",
   "nbconvert_exporter": "python",
   "pygments_lexer": "ipython3",
   "version": "3.12.7"
  }
 },
 "nbformat": 4,
 "nbformat_minor": 2
}
