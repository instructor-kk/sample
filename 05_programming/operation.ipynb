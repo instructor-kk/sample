{
 "cells": [
  {
   "cell_type": "code",
   "execution_count": null,
   "metadata": {},
   "outputs": [
    {
     "name": "stdout",
     "output_type": "stream",
     "text": [
      "加算: 13\n",
      "割算: 3.3333333333333335\n",
      "累乗: 1000\n",
      "割算の整数部分: 3\n",
      "剰余算: 1\n",
      "x += 5: 15\n",
      "x *= 2: 30\n",
      "a > b: True\n",
      "a == b: False\n",
      "100 < x < 200: True\n",
      "10 < x and x < 20: True\n",
      "not (x == 15): False\n",
      "a & b: 0b110\n",
      "a << 1: 0b11000\n"
     ]
    }
   ],
   "source": [
    "a = 10\n",
    "b = 3\n",
    "print(\"加算:\", a + b)  # 13\n",
    "print(\"割算:\", a / b)  # 3.3333...\n",
    "print(\"累乗:\", a ** b)  # 1000\n",
    "\n",
    "print(\"割算の整数部分:\", a // b)\n",
    "print(\"剰余算:\", a % b)\n",
    "\n",
    "x = 10\n",
    "x += 5\n",
    "print(\"x += 5:\", x)  # 15\n",
    "x *= 2\n",
    "print(\"x *= 2:\", x)  # 30\n",
    "\n",
    "a = 10\n",
    "b = 5\n",
    "print(\"a > b:\", a > b)  # True\n",
    "print(\"a == b:\", a == b)  # False\n",
    "\n",
    "x = 150\n",
    "print(\"100 < x < 200:\", 100 < x < 200)  # True\n",
    "\n",
    "x = 15\n",
    "print(\"10 < x and x < 20:\", 10 < x and x < 20)  # True\n",
    "print(\"not (x == 15):\", not (x == 15))  # False\n",
    "\n",
    "a = 0b1100  # 12\n",
    "b = 0b1010  # 10\n",
    "print(\"a & b:\", bin(a & b))  # 0b1000\n",
    "print(\"a << 1:\", bin(a << 1))  # 0b11000"
   ]
  }
 ],
 "metadata": {
  "kernelspec": {
   "display_name": "Python 3",
   "language": "python",
   "name": "python3"
  },
  "language_info": {
   "codemirror_mode": {
    "name": "ipython",
    "version": 3
   },
   "file_extension": ".py",
   "mimetype": "text/x-python",
   "name": "python",
   "nbconvert_exporter": "python",
   "pygments_lexer": "ipython3",
   "version": "3.12.7"
  }
 },
 "nbformat": 4,
 "nbformat_minor": 2
}
