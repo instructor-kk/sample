{
 "cells": [
  {
   "cell_type": "code",
   "execution_count": null,
   "metadata": {},
   "outputs": [],
   "source": [
    "count = 0\n",
    "student_num = int(input(\"学生の数を入力\"))\n",
    "score_list = list()\n",
    "\n",
    "while count < student_num:\n",
    "    count += 1\n",
    "    score = int(input(f'{count}人目の点数　>>'))\n",
    "    score_list.append(score)\n",
    "\n",
    "print(score_list)\n",
    "total = sum(score_list)\n",
    "\n",
    "print(f'平均点は{total / student_num}点です')\n"
   ]
  }
 ],
 "metadata": {
  "kernelspec": {
   "display_name": "Python 3",
   "language": "python",
   "name": "python3"
  },
  "language_info": {
   "codemirror_mode": {
    "name": "ipython",
    "version": 3
   },
   "file_extension": ".py",
   "mimetype": "text/x-python",
   "name": "python",
   "nbconvert_exporter": "python",
   "pygments_lexer": "ipython3",
   "version": "3.12.7"
  }
 },
 "nbformat": 4,
 "nbformat_minor": 2
}
