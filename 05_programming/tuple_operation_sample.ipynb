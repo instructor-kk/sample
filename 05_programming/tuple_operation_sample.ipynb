{
 "cells": [
  {
   "cell_type": "code",
   "execution_count": null,
   "metadata": {},
   "outputs": [
    {
     "name": "stdout",
     "output_type": "stream",
     "text": [
      "apple\n",
      "cherry\n",
      "(1, 2)\n",
      "(5, 4, 3, 2, 1, 0)\n",
      "True\n",
      "2\n",
      "3\n"
     ]
    }
   ],
   "source": [
    "fruits = (\"apple\", \"banana\", \"cherry\")\n",
    "print(fruits[0])  # apple\n",
    "print(fruits[-1]) # cherry\n",
    "\n",
    "numbers = (0, 1, 2, 3, 4, 5)\n",
    "print(numbers[1:3])   # (1, 2)\n",
    "print(numbers[::-1])  # (5, 4, 3, 2, 1, 0)\n",
    "\n",
    "fruits = (\"apple\", \"banana\", \"cherry\")\n",
    "print(\"banana\" in fruits)      # True\n",
    "print(fruits.index(\"cherry\"))  # 2\n",
    "\n",
    "numbers = (1, 2, 3, 2, 4, 2, 5)\n",
    "print(numbers.count(2))  # 3\n",
    "\n",
    "tuple1 = (1, 2, 3)\n",
    "tuple2 = (4, 5, 6)\n",
    "combined_tuple = tuple1 + tuple2\n",
    "\n",
    "print(combined_tuple)  # (1, 2, 3, 4, 5, 6)"
   ]
  }
 ],
 "metadata": {
  "kernelspec": {
   "display_name": "Python 3",
   "language": "python",
   "name": "python3"
  },
  "language_info": {
   "codemirror_mode": {
    "name": "ipython",
    "version": 3
   },
   "file_extension": ".py",
   "mimetype": "text/x-python",
   "name": "python",
   "nbconvert_exporter": "python",
   "pygments_lexer": "ipython3",
   "version": "3.12.7"
  }
 },
 "nbformat": 4,
 "nbformat_minor": 2
}
